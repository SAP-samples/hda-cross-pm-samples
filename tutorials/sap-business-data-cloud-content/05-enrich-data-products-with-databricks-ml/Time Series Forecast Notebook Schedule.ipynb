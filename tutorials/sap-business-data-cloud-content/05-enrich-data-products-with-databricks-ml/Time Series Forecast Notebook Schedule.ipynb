{
 "cells": [
  {
   "cell_type": "markdown",
   "metadata": {
    "application/vnd.databricks.v1+cell": {
     "cellMetadata": {
      "byteLimit": 2048000,
      "rowLimit": 10000
     },
     "inputWidgets": {},
     "nuid": "28f6bf89-192a-4411-a9df-048b9a6fab30",
     "showTitle": false,
     "tableResultSettingsMap": {},
     "title": ""
    }
   },
   "source": [
    "## Notebook chain for Time Series Forecasting"
   ]
  },
  {
   "cell_type": "code",
   "execution_count": 0,
   "metadata": {
    "application/vnd.databricks.v1+cell": {
     "cellMetadata": {
      "byteLimit": 2048000,
      "rowLimit": 10000
     },
     "inputWidgets": {},
     "nuid": "1d926a12-235e-4d58-9472-d37b6d33d111",
     "showTitle": false,
     "tableResultSettingsMap": {},
     "title": ""
    }
   },
   "outputs": [],
   "source": [
    "%run ./Cash_Liquidity_Data_Preparation"
   ]
  },
  {
   "cell_type": "code",
   "execution_count": 0,
   "metadata": {
    "application/vnd.databricks.v1+cell": {
     "cellMetadata": {
      "byteLimit": 2048000,
      "rowLimit": 10000
     },
     "inputWidgets": {},
     "nuid": "6f566fc4-419a-451d-9cff-324bfd3a3cf3",
     "showTitle": false,
     "tableResultSettingsMap": {},
     "title": ""
    }
   },
   "outputs": [],
   "source": [
    "%run ./Cash_Liquidity_Training"
   ]
  },
  {
   "cell_type": "code",
   "execution_count": 0,
   "metadata": {
    "application/vnd.databricks.v1+cell": {
     "cellMetadata": {
      "byteLimit": 2048000,
      "rowLimit": 10000
     },
     "inputWidgets": {},
     "nuid": "7572cb8f-0cd0-436d-8c7e-6dcc41577b02",
     "showTitle": false,
     "tableResultSettingsMap": {},
     "title": ""
    }
   },
   "outputs": [],
   "source": [
    "%run ./Cash_Liqudity_Forecast"
   ]
  },
  {
   "cell_type": "markdown",
   "metadata": {
    "application/vnd.databricks.v1+cell": {
     "cellMetadata": {
      "byteLimit": 2048000,
      "rowLimit": 10000
     },
     "inputWidgets": {},
     "nuid": "31d39eda-58fc-4970-aaea-8246432466b8",
     "showTitle": false,
     "tableResultSettingsMap": {},
     "title": ""
    }
   },
   "source": [
    "### Create a Delta Share to add the prediction table to expose Delta Table back to SAP BDC\n",
    "In order to be able to run the script, please replace the following values with unique names that are valid in order to progress the exposure of the created dataset:\n",
    "- `<CATALOG_NAME>`: Name of the Databricks catalog\n",
    "- `<SCHEMA_NAME>`: Name of schema within Databricks catalog\n",
    "- `<SHARE_NAME>`: Name of Share that should be used"
   ]
  },
  {
   "cell_type": "code",
   "execution_count": 0,
   "metadata": {
    "application/vnd.databricks.v1+cell": {
     "cellMetadata": {
      "byteLimit": 2048000,
      "implicitDf": true,
      "rowLimit": 10000
     },
     "inputWidgets": {},
     "nuid": "f9a715ad-bd9f-42af-843c-d99a33bafb63",
     "showTitle": false,
     "tableResultSettingsMap": {},
     "title": ""
    }
   },
   "outputs": [],
   "source": [
    "%sql\n",
    "CREATE CATALOG IF NOT EXISTS <CATALOG_NAME>;\n",
    "SET CATALOG <CATALOG_NAME>;\n",
    "CREATE SCHEMA IF NOT EXISTS <SCHEMA_NAME>;\n",
    "USE SCHEMA <SCHEMA_NAME>;"
   ]
  },
  {
   "cell_type": "code",
   "execution_count": 0,
   "metadata": {
    "application/vnd.databricks.v1+cell": {
     "cellMetadata": {
      "byteLimit": 2048000,
      "implicitDf": true,
      "rowLimit": 10000
     },
     "inputWidgets": {},
     "nuid": "5d88f2f0-f1d5-4b3a-a8e1-014f54299958",
     "showTitle": false,
     "tableResultSettingsMap": {},
     "title": ""
    }
   },
   "outputs": [],
   "source": [
    "%sql\n",
    "CREATE SHARE IF NOT EXISTS <SHARE_NAME>;\n",
    "ALTER SHARE <SHARE_NAME> ADD TABLE cashflow_prediction WITH HISTORY;"
   ]
  },
  {
   "cell_type": "markdown",
   "metadata": {},
   "source": [
    "#### Generate ORD and CSN document\n",
    "Please fill out the following parameters below in order to generate the CSN and ORD documents:\n",
    "- Table_Name: name of the table using the following pattern `catalog.schema.table`\n",
    "- Short_Description: Provide a short description for the ORD document\n",
    "- Description: Provide a description for the ORD document\n",
    "- Share Name: Provide the exact name of the Delta Share name\n",
    "- Data Product Schema: Provide the name of the schema where the table lies in `schema`\n",
    "- Data Product full: Provide the following name pattern for that parameter: `schema.table`"
   ]
  },
  {
   "cell_type": "code",
   "execution_count": 0,
   "metadata": {
    "application/vnd.databricks.v1+cell": {
     "cellMetadata": {
      "byteLimit": 2048000,
      "rowLimit": 10000
     },
     "inputWidgets": {},
     "nuid": "e2132d6d-9d30-49c7-af02-31aba082fa85",
     "showTitle": false,
     "tableResultSettingsMap": {},
     "title": ""
    }
   },
   "outputs": [],
   "source": [
    "from generate_ord_and_csn import ord_csn_generation\n",
    "table_name = <TABLE_NAME>\n",
    "short_description = <SHORT_DESCRIPTION>\n",
    "description = <DESCRIPTION>\n",
    "share_name = <SHARE_NAME>\n",
    "data_product_schema = <DATA_PRODUCT_SCHEMA>\n",
    "data_product_full = <DATA_PRODUCT_FULL>\n",
    "ord_csn_generation(table_name = table_name, short_description = short_description, description = description, share_name = share_name, primary_key = [\"CompanyCode\", \"date\"], data_product_main = data_product_schema, data_product_full = data_product_full)"
   ]
  }
 ],
 "metadata": {
  "application/vnd.databricks.v1+notebook": {
   "computePreferences": null,
   "dashboards": [],
   "environmentMetadata": {
    "base_environment": "",
    "client": "1"
   },
   "language": "python",
   "notebookMetadata": {
    "mostRecentlyExecutedCommandWithImplicitDF": {
     "commandId": 4051486972090460,
     "dataframes": [
      "_sqldf"
     ]
    },
    "pythonIndentUnit": 4
   },
   "notebookName": "Time Series Forecast Notebook Schedule",
   "widgets": {}
  },
  "language_info": {
   "name": "python"
  }
 },
 "nbformat": 4,
 "nbformat_minor": 0
}
